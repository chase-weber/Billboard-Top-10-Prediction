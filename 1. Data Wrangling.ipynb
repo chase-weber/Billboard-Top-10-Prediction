{
 "cells": [
  {
   "cell_type": "markdown",
   "metadata": {},
   "source": [
    "## 0. Import Packages"
   ]
  },
  {
   "cell_type": "code",
   "execution_count": null,
   "metadata": {},
   "outputs": [],
   "source": [
    "import pandas as pd\n",
    "import numpy as np\n",
    "from datetime import date\n",
    "import matplotlib.pyplot as plt\n",
    "import seaborn as sns\n",
    "import pandas_profiling\n",
    "from urllib.request import urlretrieve\n",
    "pd.set_option('display.max_columns', 100)"
   ]
  },
  {
   "cell_type": "markdown",
   "metadata": {},
   "source": [
    "## 1. Import Data File"
   ]
  },
  {
   "cell_type": "markdown",
   "metadata": {},
   "source": [
    "Our Top 100 data is imported from this website:\n",
    "https://data.world/kcmillersean/billboard-hot-100-1958-2017\n",
    "\n",
    "Our emotion data is imported from this website:\n",
    "https://data.world/tazwar2700/billboard-hot-100-with-lyrics-and-emotion-mined-scores\n",
    "\n",
    "This data is cleaned according to this blog post:\n",
    "https://medium.com/codex/emotion-mining-lyrics-of-all-billboard-hot-100-songs-1958-2020-3007d6963115\n"
   ]
  },
  {
   "cell_type": "code",
   "execution_count": 2,
   "metadata": {},
   "outputs": [
    {
     "name": "stdout",
     "output_type": "stream",
     "text": [
      "(327895, 10)\n"
     ]
    }
   ],
   "source": [
    "top_100_df = pd.read_csv('https://query.data.world/s/tyydeinou5t7cazcsv6svzold2z5j4')\n",
    "print(top_100_df.shape)"
   ]
  },
  {
   "cell_type": "code",
   "execution_count": 3,
   "metadata": {},
   "outputs": [
    {
     "name": "stdout",
     "output_type": "stream",
     "text": [
      "(22600, 49)\n"
     ]
    }
   ],
   "source": [
    "emo_df = pd.read_excel('https://query.data.world/s/hic74stf4mkkgqjz3fj6fvka5swcfx')\n",
    "print(emo_df.shape)"
   ]
  },
  {
   "cell_type": "markdown",
   "metadata": {},
   "source": [
    "Top 100 data has 327,895 records. This makes sense as the data spans from mid 1958 to mid 2021 (64 weeks). 64 x 52 x 100 = 332,800. \n",
    "\n",
    "Emotion data has 22,600 data. This includes unique song titles, lyrics, and emotion."
   ]
  },
  {
   "cell_type": "markdown",
   "metadata": {},
   "source": [
    "## 2. Initial Data Observations"
   ]
  },
  {
   "cell_type": "markdown",
   "metadata": {},
   "source": [
    "#### Question: What are the columns and types of data? "
   ]
  },
  {
   "cell_type": "code",
   "execution_count": 4,
   "metadata": {},
   "outputs": [
    {
     "name": "stdout",
     "output_type": "stream",
     "text": [
      "url                        object\n",
      "WeekID                     object\n",
      "Week Position               int64\n",
      "Song                       object\n",
      "Performer                  object\n",
      "SongID                     object\n",
      "Instance                    int64\n",
      "Previous Week Position    float64\n",
      "Peak Position               int64\n",
      "Weeks on Chart              int64\n",
      "dtype: object\n",
      "Unnamed: 0                   int64\n",
      "url                         object\n",
      "WeekID                      object\n",
      "Week Position                int64\n",
      "Song                        object\n",
      "Performer                   object\n",
      "SongID                      object\n",
      "Instance                   float64\n",
      "Previous Week Position     float64\n",
      "Peak Position              float64\n",
      "Weeks on Chart             float64\n",
      "Lyrics                      object\n",
      "Artist                      object\n",
      "words                       object\n",
      "wordCount                    int64\n",
      "languages                   object\n",
      "all_words                   object\n",
      "allWordCount                 int64\n",
      "year                         int64\n",
      "decade                      object\n",
      "MTLD                       float64\n",
      "TTR                        float64\n",
      "CTTR                       float64\n",
      "sentimentScore             float64\n",
      "sentimentScore_pos         float64\n",
      "sentimentScore_neg         float64\n",
      "emo_words                   object\n",
      "emoWordCount                 int64\n",
      "joy                        float64\n",
      "joy_normalized             float64\n",
      "sadness                    float64\n",
      "sadness_normalized         float64\n",
      "anger                      float64\n",
      "anger_normalized           float64\n",
      "disgust                    float64\n",
      "disgust_normalized         float64\n",
      "trust                      float64\n",
      "trust_normalized           float64\n",
      "anticipation               float64\n",
      "anticipation_normalized    float64\n",
      "fear                       float64\n",
      "fear_normalized            float64\n",
      "surprise                   float64\n",
      "surprise_normalized        float64\n",
      "emo_score                  float64\n",
      "happy                      float64\n",
      "happy_normalized           float64\n",
      "sorrow                     float64\n",
      "sorrow_normalized          float64\n",
      "dtype: object\n"
     ]
    }
   ],
   "source": [
    "print(top_100_df.dtypes)\n",
    "print(emo_df.dtypes)"
   ]
  },
  {
   "cell_type": "code",
   "execution_count": 5,
   "metadata": {},
   "outputs": [
    {
     "name": "stdout",
     "output_type": "stream",
     "text": [
      "                                                 url     WeekID  \\\n",
      "0  http://www.billboard.com/charts/hot-100/1965-0...  7/17/1965   \n",
      "1  http://www.billboard.com/charts/hot-100/1965-0...  7/24/1965   \n",
      "2  http://www.billboard.com/charts/hot-100/1965-0...  7/31/1965   \n",
      "3  http://www.billboard.com/charts/hot-100/1965-0...   8/7/1965   \n",
      "4  http://www.billboard.com/charts/hot-100/1965-0...  8/14/1965   \n",
      "\n",
      "   Week Position                    Song   Performer  \\\n",
      "0             34  Don't Just Stand There  Patty Duke   \n",
      "1             22  Don't Just Stand There  Patty Duke   \n",
      "2             14  Don't Just Stand There  Patty Duke   \n",
      "3             10  Don't Just Stand There  Patty Duke   \n",
      "4              8  Don't Just Stand There  Patty Duke   \n",
      "\n",
      "                             SongID  Instance  Previous Week Position  \\\n",
      "0  Don't Just Stand TherePatty Duke         1                    45.0   \n",
      "1  Don't Just Stand TherePatty Duke         1                    34.0   \n",
      "2  Don't Just Stand TherePatty Duke         1                    22.0   \n",
      "3  Don't Just Stand TherePatty Duke         1                    14.0   \n",
      "4  Don't Just Stand TherePatty Duke         1                    10.0   \n",
      "\n",
      "   Peak Position  Weeks on Chart  \n",
      "0             34               4  \n",
      "1             22               5  \n",
      "2             14               6  \n",
      "3             10               7  \n",
      "4              8               8  \n",
      "   Unnamed: 0                                                url      WeekID  \\\n",
      "0           0  http://www.billboard.com/charts/hot-100/1963-0...    6/1/1963   \n",
      "1           1  http://www.billboard.com/charts/hot-100/1967-0...    1/7/1967   \n",
      "2           3  http://www.billboard.com/charts/hot-100/1975-1...  11/29/1975   \n",
      "3           5  http://www.billboard.com/charts/hot-100/1987-0...   9/19/1987   \n",
      "4           6  http://www.billboard.com/charts/hot-100/1987-1...   10/3/1987   \n",
      "\n",
      "   Week Position                 Song         Performer  \\\n",
      "0             11                Still     bill anderson   \n",
      "1             11  Coming Home Soldier      bobby vinton   \n",
      "2             11       Saturday Night  bay city rollers   \n",
      "3             11               Carrie            europe   \n",
      "4             11             Casanova            levert   \n",
      "\n",
      "                            SongID  Instance  Previous Week Position  \\\n",
      "0               StillBill Anderson       1.0                    17.0   \n",
      "1  Coming Home SoldierBobby Vinton       1.0                    17.0   \n",
      "2   Saturday NightBay City Rollers       1.0                    17.0   \n",
      "3                     CarrieEurope       1.0                    17.0   \n",
      "4                   CasanovaLevert       1.0                    17.0   \n",
      "\n",
      "   Peak Position  Weeks on Chart  \\\n",
      "0           11.0             8.0   \n",
      "1           11.0             8.0   \n",
      "2           11.0             8.0   \n",
      "3           11.0             8.0   \n",
      "4           11.0             8.0   \n",
      "\n",
      "                                              Lyrics            Artist  \\\n",
      "0  still\\nthough you broke my heart\\nstill\\nthoug...     bill anderson   \n",
      "1  i'm coming home i'm coming\\ni'm coming home i'...      bobby vinton   \n",
      "2  saturday night\\nsaturday night\\nsaturday night...  bay city rollers   \n",
      "3  joey tempest\\nwhen lights go down\\ni see no re...            europe   \n",
      "4  hook\\ni ain't much on casanova\\nme and romeo a...            levert   \n",
      "\n",
      "                                               words  wordCount languages  \\\n",
      "0  ['still', 'though', 'broke', 'heart', 'be', 'f...         64        en   \n",
      "1  ['im', 'come', 'home', 'across', 'sea', 'march...         28        en   \n",
      "2  ['saturday', 'night', 'gonna', 'keep', 'dance'...         34        en   \n",
      "3  ['joey', 'tempest', 'light', 'go', 'see', 'rea...         47        en   \n",
      "4  ['hook', 'aint', 'much', 'casanova', 'romeo', ...         75        en   \n",
      "\n",
      "                                           all_words  allWordCount  year  \\\n",
      "0  ['still', 'though', 'broke', 'heart', 'still',...           102  1963   \n",
      "1  ['im', 'come', 'home', 'im', 'come', 'im', 'co...            93  1967   \n",
      "2  ['saturday', 'night', 'saturday', 'night', 'sa...           145  1975   \n",
      "3  ['joey', 'tempest', 'light', 'go', 'see', 'rea...           117  1987   \n",
      "4  ['hook', 'aint', 'much', 'casanova', 'romeo', ...           168  1987   \n",
      "\n",
      "  decade       MTLD       TTR      CTTR  sentimentScore  sentimentScore_pos  \\\n",
      "0    60s  40.895479  0.475336  5.019245          0.9538               0.132   \n",
      "1    60s  13.678030  0.312102  2.765230          0.6527               0.085   \n",
      "2    70s   9.090909  0.280000  2.800000          0.8750               0.050   \n",
      "3    80s  51.191016  0.398990  3.969899         -0.6005               0.070   \n",
      "4    80s  31.382222  0.364821  4.519952          0.9986               0.295   \n",
      "\n",
      "   sentimentScore_neg                                          emo_words  \\\n",
      "0               0.061  {'fear': 3.387, 'sadness': 2.973, 'joy': 9.631...   \n",
      "1               0.068  {'joy': 10.606, 'anger': 2.064, 'sadness': 3.2...   \n",
      "2               0.000  {'joy': 5.142, 'trust': 3.414, 'anticipation':...   \n",
      "3               0.094  {'anger': 6.5329999999999995, 'anticipation': ...   \n",
      "4               0.007  {'anticipation': 3.8729999999999998, 'joy': 18...   \n",
      "\n",
      "   emoWordCount     joy  joy_normalized  sadness  sadness_normalized  anger  \\\n",
      "0            58   9.631        0.094422    2.973            0.029147  1.616   \n",
      "1            43  10.606        0.114043    3.278            0.035247  2.064   \n",
      "2            22   5.142        0.035462    0.000            0.000000  0.000   \n",
      "3            76   2.800        0.023932    4.953            0.042333  6.533   \n",
      "4            73  18.056        0.107476    3.104            0.018476  0.666   \n",
      "\n",
      "   anger_normalized  disgust  disgust_normalized   trust  trust_normalized  \\\n",
      "0          0.015843    1.328            0.013020   8.760          0.085882   \n",
      "1          0.022194    0.000            0.000000   0.656          0.007054   \n",
      "2          0.000000    0.000            0.000000   3.414          0.023545   \n",
      "3          0.055838    0.492            0.004205   3.070          0.026239   \n",
      "4          0.003964    0.984            0.005857  12.278          0.073083   \n",
      "\n",
      "   anticipation  anticipation_normalized   fear  fear_normalized  surprise  \\\n",
      "0         2.070                 0.020294  3.387         0.033206     1.516   \n",
      "1         0.523                 0.005624  0.000         0.000000     0.000   \n",
      "2         0.766                 0.005283  0.000         0.000000     0.438   \n",
      "3         6.789                 0.058026  5.526         0.047231     5.625   \n",
      "4         3.873                 0.023054  1.242         0.007393     0.422   \n",
      "\n",
      "   surprise_normalized  emo_score   happy  happy_normalized  sorrow  \\\n",
      "0             0.014863     31.281  19.907          0.195167  11.374   \n",
      "1             0.000000     17.127  11.262          0.121097   5.865   \n",
      "2             0.003021      9.760   8.994          0.062028   0.766   \n",
      "3             0.048077     35.788  11.495          0.098248  24.293   \n",
      "4             0.002512     40.625  30.756          0.183071   9.869   \n",
      "\n",
      "   sorrow_normalized  \n",
      "0           0.111510  \n",
      "1           0.063065  \n",
      "2           0.005283  \n",
      "3           0.207632  \n",
      "4           0.058744  \n"
     ]
    }
   ],
   "source": [
    "print(top_100_df.head())\n",
    "print(emo_df.head())"
   ]
  },
  {
   "cell_type": "markdown",
   "metadata": {},
   "source": [
    "#### Question: How many unique songs are in each dataset?"
   ]
  },
  {
   "cell_type": "code",
   "execution_count": 6,
   "metadata": {},
   "outputs": [
    {
     "name": "stdout",
     "output_type": "stream",
     "text": [
      "29389\n",
      "22600\n",
      "There are 6789 song without emotion score.\n"
     ]
    }
   ],
   "source": [
    "print(top_100_df['SongID'].nunique())\n",
    "print(emo_df['SongID'].nunique())\n",
    "print(\"There are \" + str(top_100_df['SongID'].nunique() - emo_df['SongID'].nunique()) + \" song without emotion score.\")"
   ]
  },
  {
   "cell_type": "markdown",
   "metadata": {},
   "source": [
    "## 3. Join Emotion_DF onto Full_DF"
   ]
  },
  {
   "cell_type": "markdown",
   "metadata": {},
   "source": [
    "Remove duplicate columns from emotion data, prior to merge."
   ]
  },
  {
   "cell_type": "code",
   "execution_count": 7,
   "metadata": {},
   "outputs": [],
   "source": [
    "emo_df1 = emo_df.drop(columns = {'url', 'WeekID', 'Week Position', 'Song', 'Performer', 'Instance', 'Previous Week Position', 'Peak Position', 'Weeks on Chart'}, inplace = True)"
   ]
  },
  {
   "cell_type": "markdown",
   "metadata": {},
   "source": [
    "Merge data on \"SongID\" column."
   ]
  },
  {
   "cell_type": "code",
   "execution_count": 8,
   "metadata": {},
   "outputs": [],
   "source": [
    "df_emo_full = pd.merge(top_100_df, emo_df, on = ['SongID'], how = 'outer', indicator = True)"
   ]
  },
  {
   "cell_type": "markdown",
   "metadata": {},
   "source": [
    "#### Question: How many records are merged from each dataset?"
   ]
  },
  {
   "cell_type": "code",
   "execution_count": 9,
   "metadata": {},
   "outputs": [
    {
     "data": {
      "text/plain": [
       "both          269355\n",
       "left_only      58540\n",
       "right_only         0\n",
       "Name: _merge, dtype: int64"
      ]
     },
     "execution_count": 9,
     "metadata": {},
     "output_type": "execute_result"
    }
   ],
   "source": [
    "df_emo_full['_merge'].value_counts()"
   ]
  },
  {
   "cell_type": "markdown",
   "metadata": {},
   "source": [
    "#### Answer: There are 58,540 total records that do not have emotion information.\n",
    "Why is this? Is there a time period that affects most of these?"
   ]
  },
  {
   "cell_type": "markdown",
   "metadata": {},
   "source": [
    "Create a variable \"YearID\""
   ]
  },
  {
   "cell_type": "code",
   "execution_count": 10,
   "metadata": {},
   "outputs": [],
   "source": [
    "df_emo_full['YearID'] = df_emo_full['WeekID'].str[-4:]"
   ]
  },
  {
   "cell_type": "markdown",
   "metadata": {},
   "source": [
    "Remove \"Unnamed: 0\" column"
   ]
  },
  {
   "cell_type": "code",
   "execution_count": 11,
   "metadata": {},
   "outputs": [],
   "source": [
    "df_emo_full.drop(columns = {'Unnamed: 0'}, inplace = True)"
   ]
  },
  {
   "cell_type": "markdown",
   "metadata": {},
   "source": [
    "## 4. Explore the df_emo_full dataframe"
   ]
  },
  {
   "cell_type": "markdown",
   "metadata": {},
   "source": [
    "#### Question: How many missing values are associated with each column?"
   ]
  },
  {
   "cell_type": "code",
   "execution_count": 12,
   "metadata": {},
   "outputs": [
    {
     "name": "stdout",
     "output_type": "stream",
     "text": [
      "<class 'pandas.core.frame.DataFrame'>\n",
      "Int64Index: 327895 entries, 0 to 327894\n",
      "Data columns (total 50 columns):\n",
      " #   Column                   Non-Null Count   Dtype   \n",
      "---  ------                   --------------   -----   \n",
      " 0   url                      327895 non-null  object  \n",
      " 1   WeekID                   327895 non-null  object  \n",
      " 2   Week Position            327895 non-null  int64   \n",
      " 3   Song                     327895 non-null  object  \n",
      " 4   Performer                327895 non-null  object  \n",
      " 5   SongID                   327895 non-null  object  \n",
      " 6   Instance                 327895 non-null  int64   \n",
      " 7   Previous Week Position   295941 non-null  float64 \n",
      " 8   Peak Position            327895 non-null  int64   \n",
      " 9   Weeks on Chart           327895 non-null  int64   \n",
      " 10  Lyrics                   269355 non-null  object  \n",
      " 11  Artist                   269355 non-null  object  \n",
      " 12  words                    269355 non-null  object  \n",
      " 13  wordCount                269355 non-null  float64 \n",
      " 14  languages                269355 non-null  object  \n",
      " 15  all_words                269355 non-null  object  \n",
      " 16  allWordCount             269355 non-null  float64 \n",
      " 17  year                     269355 non-null  float64 \n",
      " 18  decade                   269355 non-null  object  \n",
      " 19  MTLD                     269355 non-null  float64 \n",
      " 20  TTR                      269355 non-null  float64 \n",
      " 21  CTTR                     269355 non-null  float64 \n",
      " 22  sentimentScore           269355 non-null  float64 \n",
      " 23  sentimentScore_pos       269355 non-null  float64 \n",
      " 24  sentimentScore_neg       269355 non-null  float64 \n",
      " 25  emo_words                269355 non-null  object  \n",
      " 26  emoWordCount             269355 non-null  float64 \n",
      " 27  joy                      269355 non-null  float64 \n",
      " 28  joy_normalized           269355 non-null  float64 \n",
      " 29  sadness                  269355 non-null  float64 \n",
      " 30  sadness_normalized       269355 non-null  float64 \n",
      " 31  anger                    269355 non-null  float64 \n",
      " 32  anger_normalized         269355 non-null  float64 \n",
      " 33  disgust                  269355 non-null  float64 \n",
      " 34  disgust_normalized       269355 non-null  float64 \n",
      " 35  trust                    269355 non-null  float64 \n",
      " 36  trust_normalized         269355 non-null  float64 \n",
      " 37  anticipation             269355 non-null  float64 \n",
      " 38  anticipation_normalized  269355 non-null  float64 \n",
      " 39  fear                     269355 non-null  float64 \n",
      " 40  fear_normalized          269355 non-null  float64 \n",
      " 41  surprise                 269355 non-null  float64 \n",
      " 42  surprise_normalized      269355 non-null  float64 \n",
      " 43  emo_score                269355 non-null  float64 \n",
      " 44  happy                    269355 non-null  float64 \n",
      " 45  happy_normalized         269355 non-null  float64 \n",
      " 46  sorrow                   269355 non-null  float64 \n",
      " 47  sorrow_normalized        269355 non-null  float64 \n",
      " 48  _merge                   327895 non-null  category\n",
      " 49  YearID                   327895 non-null  object  \n",
      "dtypes: category(1), float64(32), int64(4), object(13)\n",
      "memory usage: 125.4+ MB\n"
     ]
    },
    {
     "data": {
      "text/html": [
       "<div>\n",
       "<style scoped>\n",
       "    .dataframe tbody tr th:only-of-type {\n",
       "        vertical-align: middle;\n",
       "    }\n",
       "\n",
       "    .dataframe tbody tr th {\n",
       "        vertical-align: top;\n",
       "    }\n",
       "\n",
       "    .dataframe thead th {\n",
       "        text-align: right;\n",
       "    }\n",
       "</style>\n",
       "<table border=\"1\" class=\"dataframe\">\n",
       "  <thead>\n",
       "    <tr style=\"text-align: right;\">\n",
       "      <th></th>\n",
       "      <th>count</th>\n",
       "      <th>%</th>\n",
       "    </tr>\n",
       "  </thead>\n",
       "  <tbody>\n",
       "    <tr>\n",
       "      <th>emo_words</th>\n",
       "      <td>58540</td>\n",
       "      <td>17.853276</td>\n",
       "    </tr>\n",
       "    <tr>\n",
       "      <th>fear_normalized</th>\n",
       "      <td>58540</td>\n",
       "      <td>17.853276</td>\n",
       "    </tr>\n",
       "    <tr>\n",
       "      <th>sentimentScore</th>\n",
       "      <td>58540</td>\n",
       "      <td>17.853276</td>\n",
       "    </tr>\n",
       "    <tr>\n",
       "      <th>sentimentScore_pos</th>\n",
       "      <td>58540</td>\n",
       "      <td>17.853276</td>\n",
       "    </tr>\n",
       "    <tr>\n",
       "      <th>sentimentScore_neg</th>\n",
       "      <td>58540</td>\n",
       "      <td>17.853276</td>\n",
       "    </tr>\n",
       "    <tr>\n",
       "      <th>surprise</th>\n",
       "      <td>58540</td>\n",
       "      <td>17.853276</td>\n",
       "    </tr>\n",
       "    <tr>\n",
       "      <th>emoWordCount</th>\n",
       "      <td>58540</td>\n",
       "      <td>17.853276</td>\n",
       "    </tr>\n",
       "    <tr>\n",
       "      <th>joy</th>\n",
       "      <td>58540</td>\n",
       "      <td>17.853276</td>\n",
       "    </tr>\n",
       "    <tr>\n",
       "      <th>joy_normalized</th>\n",
       "      <td>58540</td>\n",
       "      <td>17.853276</td>\n",
       "    </tr>\n",
       "    <tr>\n",
       "      <th>sadness</th>\n",
       "      <td>58540</td>\n",
       "      <td>17.853276</td>\n",
       "    </tr>\n",
       "    <tr>\n",
       "      <th>sadness_normalized</th>\n",
       "      <td>58540</td>\n",
       "      <td>17.853276</td>\n",
       "    </tr>\n",
       "    <tr>\n",
       "      <th>anger</th>\n",
       "      <td>58540</td>\n",
       "      <td>17.853276</td>\n",
       "    </tr>\n",
       "    <tr>\n",
       "      <th>anger_normalized</th>\n",
       "      <td>58540</td>\n",
       "      <td>17.853276</td>\n",
       "    </tr>\n",
       "    <tr>\n",
       "      <th>disgust</th>\n",
       "      <td>58540</td>\n",
       "      <td>17.853276</td>\n",
       "    </tr>\n",
       "    <tr>\n",
       "      <th>disgust_normalized</th>\n",
       "      <td>58540</td>\n",
       "      <td>17.853276</td>\n",
       "    </tr>\n",
       "    <tr>\n",
       "      <th>trust</th>\n",
       "      <td>58540</td>\n",
       "      <td>17.853276</td>\n",
       "    </tr>\n",
       "    <tr>\n",
       "      <th>trust_normalized</th>\n",
       "      <td>58540</td>\n",
       "      <td>17.853276</td>\n",
       "    </tr>\n",
       "    <tr>\n",
       "      <th>anticipation</th>\n",
       "      <td>58540</td>\n",
       "      <td>17.853276</td>\n",
       "    </tr>\n",
       "    <tr>\n",
       "      <th>anticipation_normalized</th>\n",
       "      <td>58540</td>\n",
       "      <td>17.853276</td>\n",
       "    </tr>\n",
       "    <tr>\n",
       "      <th>CTTR</th>\n",
       "      <td>58540</td>\n",
       "      <td>17.853276</td>\n",
       "    </tr>\n",
       "    <tr>\n",
       "      <th>TTR</th>\n",
       "      <td>58540</td>\n",
       "      <td>17.853276</td>\n",
       "    </tr>\n",
       "    <tr>\n",
       "      <th>MTLD</th>\n",
       "      <td>58540</td>\n",
       "      <td>17.853276</td>\n",
       "    </tr>\n",
       "    <tr>\n",
       "      <th>decade</th>\n",
       "      <td>58540</td>\n",
       "      <td>17.853276</td>\n",
       "    </tr>\n",
       "    <tr>\n",
       "      <th>sorrow_normalized</th>\n",
       "      <td>58540</td>\n",
       "      <td>17.853276</td>\n",
       "    </tr>\n",
       "    <tr>\n",
       "      <th>sorrow</th>\n",
       "      <td>58540</td>\n",
       "      <td>17.853276</td>\n",
       "    </tr>\n",
       "    <tr>\n",
       "      <th>happy_normalized</th>\n",
       "      <td>58540</td>\n",
       "      <td>17.853276</td>\n",
       "    </tr>\n",
       "    <tr>\n",
       "      <th>happy</th>\n",
       "      <td>58540</td>\n",
       "      <td>17.853276</td>\n",
       "    </tr>\n",
       "    <tr>\n",
       "      <th>emo_score</th>\n",
       "      <td>58540</td>\n",
       "      <td>17.853276</td>\n",
       "    </tr>\n",
       "    <tr>\n",
       "      <th>surprise_normalized</th>\n",
       "      <td>58540</td>\n",
       "      <td>17.853276</td>\n",
       "    </tr>\n",
       "    <tr>\n",
       "      <th>Lyrics</th>\n",
       "      <td>58540</td>\n",
       "      <td>17.853276</td>\n",
       "    </tr>\n",
       "    <tr>\n",
       "      <th>Artist</th>\n",
       "      <td>58540</td>\n",
       "      <td>17.853276</td>\n",
       "    </tr>\n",
       "    <tr>\n",
       "      <th>words</th>\n",
       "      <td>58540</td>\n",
       "      <td>17.853276</td>\n",
       "    </tr>\n",
       "    <tr>\n",
       "      <th>wordCount</th>\n",
       "      <td>58540</td>\n",
       "      <td>17.853276</td>\n",
       "    </tr>\n",
       "    <tr>\n",
       "      <th>languages</th>\n",
       "      <td>58540</td>\n",
       "      <td>17.853276</td>\n",
       "    </tr>\n",
       "    <tr>\n",
       "      <th>all_words</th>\n",
       "      <td>58540</td>\n",
       "      <td>17.853276</td>\n",
       "    </tr>\n",
       "    <tr>\n",
       "      <th>allWordCount</th>\n",
       "      <td>58540</td>\n",
       "      <td>17.853276</td>\n",
       "    </tr>\n",
       "    <tr>\n",
       "      <th>year</th>\n",
       "      <td>58540</td>\n",
       "      <td>17.853276</td>\n",
       "    </tr>\n",
       "    <tr>\n",
       "      <th>fear</th>\n",
       "      <td>58540</td>\n",
       "      <td>17.853276</td>\n",
       "    </tr>\n",
       "    <tr>\n",
       "      <th>Previous Week Position</th>\n",
       "      <td>31954</td>\n",
       "      <td>9.745193</td>\n",
       "    </tr>\n",
       "    <tr>\n",
       "      <th>_merge</th>\n",
       "      <td>0</td>\n",
       "      <td>0.000000</td>\n",
       "    </tr>\n",
       "    <tr>\n",
       "      <th>url</th>\n",
       "      <td>0</td>\n",
       "      <td>0.000000</td>\n",
       "    </tr>\n",
       "    <tr>\n",
       "      <th>WeekID</th>\n",
       "      <td>0</td>\n",
       "      <td>0.000000</td>\n",
       "    </tr>\n",
       "    <tr>\n",
       "      <th>Weeks on Chart</th>\n",
       "      <td>0</td>\n",
       "      <td>0.000000</td>\n",
       "    </tr>\n",
       "    <tr>\n",
       "      <th>Peak Position</th>\n",
       "      <td>0</td>\n",
       "      <td>0.000000</td>\n",
       "    </tr>\n",
       "    <tr>\n",
       "      <th>Instance</th>\n",
       "      <td>0</td>\n",
       "      <td>0.000000</td>\n",
       "    </tr>\n",
       "    <tr>\n",
       "      <th>SongID</th>\n",
       "      <td>0</td>\n",
       "      <td>0.000000</td>\n",
       "    </tr>\n",
       "    <tr>\n",
       "      <th>Performer</th>\n",
       "      <td>0</td>\n",
       "      <td>0.000000</td>\n",
       "    </tr>\n",
       "    <tr>\n",
       "      <th>Song</th>\n",
       "      <td>0</td>\n",
       "      <td>0.000000</td>\n",
       "    </tr>\n",
       "    <tr>\n",
       "      <th>Week Position</th>\n",
       "      <td>0</td>\n",
       "      <td>0.000000</td>\n",
       "    </tr>\n",
       "    <tr>\n",
       "      <th>YearID</th>\n",
       "      <td>0</td>\n",
       "      <td>0.000000</td>\n",
       "    </tr>\n",
       "  </tbody>\n",
       "</table>\n",
       "</div>"
      ],
      "text/plain": [
       "                         count          %\n",
       "emo_words                58540  17.853276\n",
       "fear_normalized          58540  17.853276\n",
       "sentimentScore           58540  17.853276\n",
       "sentimentScore_pos       58540  17.853276\n",
       "sentimentScore_neg       58540  17.853276\n",
       "surprise                 58540  17.853276\n",
       "emoWordCount             58540  17.853276\n",
       "joy                      58540  17.853276\n",
       "joy_normalized           58540  17.853276\n",
       "sadness                  58540  17.853276\n",
       "sadness_normalized       58540  17.853276\n",
       "anger                    58540  17.853276\n",
       "anger_normalized         58540  17.853276\n",
       "disgust                  58540  17.853276\n",
       "disgust_normalized       58540  17.853276\n",
       "trust                    58540  17.853276\n",
       "trust_normalized         58540  17.853276\n",
       "anticipation             58540  17.853276\n",
       "anticipation_normalized  58540  17.853276\n",
       "CTTR                     58540  17.853276\n",
       "TTR                      58540  17.853276\n",
       "MTLD                     58540  17.853276\n",
       "decade                   58540  17.853276\n",
       "sorrow_normalized        58540  17.853276\n",
       "sorrow                   58540  17.853276\n",
       "happy_normalized         58540  17.853276\n",
       "happy                    58540  17.853276\n",
       "emo_score                58540  17.853276\n",
       "surprise_normalized      58540  17.853276\n",
       "Lyrics                   58540  17.853276\n",
       "Artist                   58540  17.853276\n",
       "words                    58540  17.853276\n",
       "wordCount                58540  17.853276\n",
       "languages                58540  17.853276\n",
       "all_words                58540  17.853276\n",
       "allWordCount             58540  17.853276\n",
       "year                     58540  17.853276\n",
       "fear                     58540  17.853276\n",
       "Previous Week Position   31954   9.745193\n",
       "_merge                       0   0.000000\n",
       "url                          0   0.000000\n",
       "WeekID                       0   0.000000\n",
       "Weeks on Chart               0   0.000000\n",
       "Peak Position                0   0.000000\n",
       "Instance                     0   0.000000\n",
       "SongID                       0   0.000000\n",
       "Performer                    0   0.000000\n",
       "Song                         0   0.000000\n",
       "Week Position                0   0.000000\n",
       "YearID                       0   0.000000"
      ]
     },
     "execution_count": 12,
     "metadata": {},
     "output_type": "execute_result"
    }
   ],
   "source": [
    "df_emo_full.info()\n",
    "\n",
    "missing = pd.concat([df_emo_full.isnull().sum(), 100 * df_emo_full.isnull().mean()], axis=1)\n",
    "missing.columns=[\"count\", \"%\"]\n",
    "missing.sort_values(by=\"count\", ascending = False)"
   ]
  },
  {
   "cell_type": "markdown",
   "metadata": {},
   "source": [
    "#### Answer: It appears that all data from the \"Top 100 data\" are populated, aside from \"Previous Week Position,\" we will look into this column further. The \"Emotion data\" appears to have the same count of missing records in each column, we need to look into this. "
   ]
  },
  {
   "cell_type": "markdown",
   "metadata": {},
   "source": [
    "#### Question: Does each week have all 100 records? "
   ]
  },
  {
   "cell_type": "code",
   "execution_count": 13,
   "metadata": {},
   "outputs": [
    {
     "data": {
      "text/plain": [
       "7/17/1965     100\n",
       "8/29/2009     100\n",
       "6/6/2009      100\n",
       "6/13/2009     100\n",
       "6/20/2009     100\n",
       "             ... \n",
       "11/30/1991     99\n",
       "12/7/1991      99\n",
       "12/14/1991     99\n",
       "11/23/1991     99\n",
       "11/16/1991     99\n",
       "Name: WeekID, Length: 3279, dtype: int64"
      ]
     },
     "execution_count": 13,
     "metadata": {},
     "output_type": "execute_result"
    }
   ],
   "source": [
    "df_emo_full['WeekID'].value_counts()"
   ]
  },
  {
   "cell_type": "code",
   "execution_count": 14,
   "metadata": {},
   "outputs": [],
   "source": [
    "week_check = df_emo_full[df_emo_full['WeekID'].isin(['11/16/1991', '11/23/1991', '11/30/1991', '12/7/1991', '12/14/1991'])]\n",
    "week_check['Week Position'].value_counts();\n",
    "#Remove \";\" to see output"
   ]
  },
  {
   "cell_type": "markdown",
   "metadata": {},
   "source": [
    "#### Answer: All except for 5 weeks have the expected 100 placements. The 5 cases with only 99 placements are in consecutive weeks from November to December of 1991. \n",
    "The missing placements in those weeks were either 99, 98, 95, or 92."
   ]
  },
  {
   "cell_type": "markdown",
   "metadata": {},
   "source": [
    "#### Question: We noticed a significant amount of missing \"emotion data.\" Is there a time period where emotion data is missing the most? "
   ]
  },
  {
   "cell_type": "code",
   "execution_count": 15,
   "metadata": {},
   "outputs": [
    {
     "name": "stdout",
     "output_type": "stream",
     "text": [
      "1959    2039\n",
      "1961    1829\n",
      "1962    1769\n",
      "1960    1736\n",
      "1963    1684\n",
      "        ... \n",
      "2004     434\n",
      "2011     429\n",
      "2010     425\n",
      "2012     369\n",
      "2009     353\n",
      "Name: YearID, Length: 64, dtype: int64\n"
     ]
    },
    {
     "name": "stderr",
     "output_type": "stream",
     "text": [
      "/Users/harrisonchaseweber/opt/anaconda3/lib/python3.7/site-packages/ipykernel_launcher.py:4: SettingWithCopyWarning: \n",
      "A value is trying to be set on a copy of a slice from a DataFrame.\n",
      "Try using .loc[row_indexer,col_indexer] = value instead\n",
      "\n",
      "See the caveats in the documentation: https://pandas.pydata.org/pandas-docs/stable/user_guide/indexing.html#returning-a-view-versus-a-copy\n",
      "  after removing the cwd from sys.path.\n"
     ]
    },
    {
     "data": {
      "image/png": "[encoded data removed]",
      "text/plain": [
       "<Figure size 360x360 with 1 Axes>"
      ]
     },
     "metadata": {
      "needs_background": "light"
     },
     "output_type": "display_data"
    }
   ],
   "source": [
    "miss_emo_check = df_emo_full[df_emo_full['_merge'] == 'left_only']\n",
    "print(miss_emo_check['YearID'].value_counts())\n",
    "#Remove \";\" to see output\n",
    "miss_emo_check['YearID_num'] = miss_emo_check['YearID'].astype(float)\n",
    "sns.catplot(data = miss_emo_check, x = 'YearID_num', kind = \"count\", color = \"b\")\n",
    "plt.xlabel(\"Year on Billboard\")\n",
    "plt.ylabel(\"Count of records will missing emotion data\")\n",
    "plt.xticks(rotation = 90)\n",
    "plt.rcParams['figure.figsize'] = [12, 8]\n",
    "plt.show()"
   ]
  },
  {
   "cell_type": "markdown",
   "metadata": {},
   "source": [
    "#### Answer: It appears that historical records and most recent data are missing emotional data more often (there is also a rise of missing values in the 90s). How do we want to handle these? Remove completely? Supplement with the average/mean? Fill with zero? "
   ]
  },
  {
   "cell_type": "markdown",
   "metadata": {},
   "source": [
    "#### Question: What are the quantiles of our numeric data?"
   ]
  },
  {
   "cell_type": "code",
   "execution_count": 16,
   "metadata": {},
   "outputs": [
    {
     "data": {
      "text/html": [
       "<div>\n",
       "<style scoped>\n",
       "    .dataframe tbody tr th:only-of-type {\n",
       "        vertical-align: middle;\n",
       "    }\n",
       "\n",
       "    .dataframe tbody tr th {\n",
       "        vertical-align: top;\n",
       "    }\n",
       "\n",
       "    .dataframe thead th {\n",
       "        text-align: right;\n",
       "    }\n",
       "</style>\n",
       "<table border=\"1\" class=\"dataframe\">\n",
       "  <thead>\n",
       "    <tr style=\"text-align: right;\">\n",
       "      <th></th>\n",
       "      <th>Week Position</th>\n",
       "      <th>Instance</th>\n",
       "      <th>Previous Week Position</th>\n",
       "      <th>Peak Position</th>\n",
       "      <th>Weeks on Chart</th>\n",
       "      <th>wordCount</th>\n",
       "      <th>allWordCount</th>\n",
       "      <th>year</th>\n",
       "      <th>MTLD</th>\n",
       "      <th>TTR</th>\n",
       "      <th>CTTR</th>\n",
       "      <th>sentimentScore</th>\n",
       "      <th>sentimentScore_pos</th>\n",
       "      <th>sentimentScore_neg</th>\n",
       "      <th>emoWordCount</th>\n",
       "      <th>joy</th>\n",
       "      <th>joy_normalized</th>\n",
       "      <th>sadness</th>\n",
       "      <th>sadness_normalized</th>\n",
       "      <th>anger</th>\n",
       "      <th>anger_normalized</th>\n",
       "      <th>disgust</th>\n",
       "      <th>disgust_normalized</th>\n",
       "      <th>trust</th>\n",
       "      <th>trust_normalized</th>\n",
       "      <th>anticipation</th>\n",
       "      <th>anticipation_normalized</th>\n",
       "      <th>fear</th>\n",
       "      <th>fear_normalized</th>\n",
       "      <th>surprise</th>\n",
       "      <th>surprise_normalized</th>\n",
       "      <th>emo_score</th>\n",
       "      <th>happy</th>\n",
       "      <th>happy_normalized</th>\n",
       "      <th>sorrow</th>\n",
       "      <th>sorrow_normalized</th>\n",
       "    </tr>\n",
       "  </thead>\n",
       "  <tbody>\n",
       "    <tr>\n",
       "      <th>count</th>\n",
       "      <td>327895.000000</td>\n",
       "      <td>327895.000000</td>\n",
       "      <td>295941.000000</td>\n",
       "      <td>327895.000000</td>\n",
       "      <td>327895.000000</td>\n",
       "      <td>269355.000000</td>\n",
       "      <td>269355.000000</td>\n",
       "      <td>269355.000000</td>\n",
       "      <td>269355.000000</td>\n",
       "      <td>269355.000000</td>\n",
       "      <td>269355.000000</td>\n",
       "      <td>269355.000000</td>\n",
       "      <td>269355.000000</td>\n",
       "      <td>269355.000000</td>\n",
       "      <td>269355.000000</td>\n",
       "      <td>269355.000000</td>\n",
       "      <td>269355.000000</td>\n",
       "      <td>269355.000000</td>\n",
       "      <td>269355.000000</td>\n",
       "      <td>269355.000000</td>\n",
       "      <td>269355.000000</td>\n",
       "      <td>269355.000000</td>\n",
       "      <td>269355.000000</td>\n",
       "      <td>269355.000000</td>\n",
       "      <td>269355.000000</td>\n",
       "      <td>269355.000000</td>\n",
       "      <td>269355.000000</td>\n",
       "      <td>269355.000000</td>\n",
       "      <td>269355.000000</td>\n",
       "      <td>269355.000000</td>\n",
       "      <td>269355.000000</td>\n",
       "      <td>269355.000000</td>\n",
       "      <td>269355.000000</td>\n",
       "      <td>269355.000000</td>\n",
       "      <td>269355.000000</td>\n",
       "      <td>269355.000000</td>\n",
       "    </tr>\n",
       "    <tr>\n",
       "      <th>mean</th>\n",
       "      <td>50.499309</td>\n",
       "      <td>1.072538</td>\n",
       "      <td>47.604066</td>\n",
       "      <td>41.358307</td>\n",
       "      <td>9.153793</td>\n",
       "      <td>74.242334</td>\n",
       "      <td>175.871786</td>\n",
       "      <td>1990.483941</td>\n",
       "      <td>35.873440</td>\n",
       "      <td>0.342439</td>\n",
       "      <td>4.231602</td>\n",
       "      <td>0.487275</td>\n",
       "      <td>0.168049</td>\n",
       "      <td>0.083886</td>\n",
       "      <td>80.446960</td>\n",
       "      <td>10.204082</td>\n",
       "      <td>0.066302</td>\n",
       "      <td>3.959016</td>\n",
       "      <td>0.025495</td>\n",
       "      <td>2.832443</td>\n",
       "      <td>0.014512</td>\n",
       "      <td>2.086039</td>\n",
       "      <td>0.011103</td>\n",
       "      <td>7.965993</td>\n",
       "      <td>0.048885</td>\n",
       "      <td>4.170399</td>\n",
       "      <td>0.026035</td>\n",
       "      <td>3.238855</td>\n",
       "      <td>0.018841</td>\n",
       "      <td>1.860083</td>\n",
       "      <td>0.011209</td>\n",
       "      <td>36.316909</td>\n",
       "      <td>20.030158</td>\n",
       "      <td>0.126397</td>\n",
       "      <td>16.286752</td>\n",
       "      <td>0.095986</td>\n",
       "    </tr>\n",
       "    <tr>\n",
       "      <th>std</th>\n",
       "      <td>28.865707</td>\n",
       "      <td>0.334188</td>\n",
       "      <td>28.056915</td>\n",
       "      <td>29.542497</td>\n",
       "      <td>7.590281</td>\n",
       "      <td>45.281149</td>\n",
       "      <td>104.450682</td>\n",
       "      <td>17.646991</td>\n",
       "      <td>18.624751</td>\n",
       "      <td>0.101897</td>\n",
       "      <td>1.183552</td>\n",
       "      <td>0.782028</td>\n",
       "      <td>0.098949</td>\n",
       "      <td>0.072694</td>\n",
       "      <td>53.392857</td>\n",
       "      <td>8.448962</td>\n",
       "      <td>0.050177</td>\n",
       "      <td>4.188860</td>\n",
       "      <td>0.026725</td>\n",
       "      <td>4.435792</td>\n",
       "      <td>0.018083</td>\n",
       "      <td>3.363149</td>\n",
       "      <td>0.015069</td>\n",
       "      <td>7.197093</td>\n",
       "      <td>0.039670</td>\n",
       "      <td>4.107091</td>\n",
       "      <td>0.023252</td>\n",
       "      <td>4.106952</td>\n",
       "      <td>0.021406</td>\n",
       "      <td>2.722920</td>\n",
       "      <td>0.014281</td>\n",
       "      <td>24.898036</td>\n",
       "      <td>15.448386</td>\n",
       "      <td>0.087179</td>\n",
       "      <td>15.045816</td>\n",
       "      <td>0.069288</td>\n",
       "    </tr>\n",
       "    <tr>\n",
       "      <th>min</th>\n",
       "      <td>1.000000</td>\n",
       "      <td>1.000000</td>\n",
       "      <td>1.000000</td>\n",
       "      <td>1.000000</td>\n",
       "      <td>1.000000</td>\n",
       "      <td>1.000000</td>\n",
       "      <td>1.000000</td>\n",
       "      <td>1958.000000</td>\n",
       "      <td>1.000000</td>\n",
       "      <td>0.009238</td>\n",
       "      <td>0.135926</td>\n",
       "      <td>-0.999900</td>\n",
       "      <td>0.000000</td>\n",
       "      <td>0.000000</td>\n",
       "      <td>0.000000</td>\n",
       "      <td>0.000000</td>\n",
       "      <td>0.000000</td>\n",
       "      <td>0.000000</td>\n",
       "      <td>0.000000</td>\n",
       "      <td>0.000000</td>\n",
       "      <td>0.000000</td>\n",
       "      <td>0.000000</td>\n",
       "      <td>0.000000</td>\n",
       "      <td>0.000000</td>\n",
       "      <td>0.000000</td>\n",
       "      <td>0.000000</td>\n",
       "      <td>0.000000</td>\n",
       "      <td>0.000000</td>\n",
       "      <td>0.000000</td>\n",
       "      <td>0.000000</td>\n",
       "      <td>0.000000</td>\n",
       "      <td>0.000000</td>\n",
       "      <td>0.000000</td>\n",
       "      <td>0.000000</td>\n",
       "      <td>0.000000</td>\n",
       "      <td>0.000000</td>\n",
       "    </tr>\n",
       "    <tr>\n",
       "      <th>25%</th>\n",
       "      <td>25.500000</td>\n",
       "      <td>1.000000</td>\n",
       "      <td>23.000000</td>\n",
       "      <td>14.000000</td>\n",
       "      <td>4.000000</td>\n",
       "      <td>47.000000</td>\n",
       "      <td>105.000000</td>\n",
       "      <td>1976.000000</td>\n",
       "      <td>22.423604</td>\n",
       "      <td>0.271021</td>\n",
       "      <td>3.444401</td>\n",
       "      <td>0.011600</td>\n",
       "      <td>0.096000</td>\n",
       "      <td>0.032000</td>\n",
       "      <td>44.000000</td>\n",
       "      <td>4.655000</td>\n",
       "      <td>0.029801</td>\n",
       "      <td>1.219000</td>\n",
       "      <td>0.008015</td>\n",
       "      <td>0.438000</td>\n",
       "      <td>0.003202</td>\n",
       "      <td>0.250000</td>\n",
       "      <td>0.001812</td>\n",
       "      <td>3.088000</td>\n",
       "      <td>0.022323</td>\n",
       "      <td>1.569000</td>\n",
       "      <td>0.010630</td>\n",
       "      <td>0.719000</td>\n",
       "      <td>0.005208</td>\n",
       "      <td>0.461000</td>\n",
       "      <td>0.003127</td>\n",
       "      <td>19.441000</td>\n",
       "      <td>9.737000</td>\n",
       "      <td>0.066667</td>\n",
       "      <td>6.833000</td>\n",
       "      <td>0.050038</td>\n",
       "    </tr>\n",
       "    <tr>\n",
       "      <th>50%</th>\n",
       "      <td>50.000000</td>\n",
       "      <td>1.000000</td>\n",
       "      <td>47.000000</td>\n",
       "      <td>39.000000</td>\n",
       "      <td>7.000000</td>\n",
       "      <td>62.000000</td>\n",
       "      <td>146.000000</td>\n",
       "      <td>1991.000000</td>\n",
       "      <td>32.048999</td>\n",
       "      <td>0.331126</td>\n",
       "      <td>4.071432</td>\n",
       "      <td>0.969600</td>\n",
       "      <td>0.150000</td>\n",
       "      <td>0.065000</td>\n",
       "      <td>67.000000</td>\n",
       "      <td>8.075000</td>\n",
       "      <td>0.053653</td>\n",
       "      <td>2.780000</td>\n",
       "      <td>0.017735</td>\n",
       "      <td>1.339000</td>\n",
       "      <td>0.009259</td>\n",
       "      <td>0.984000</td>\n",
       "      <td>0.006494</td>\n",
       "      <td>6.003000</td>\n",
       "      <td>0.038497</td>\n",
       "      <td>3.096000</td>\n",
       "      <td>0.019890</td>\n",
       "      <td>1.935000</td>\n",
       "      <td>0.012700</td>\n",
       "      <td>1.142000</td>\n",
       "      <td>0.007357</td>\n",
       "      <td>30.059000</td>\n",
       "      <td>16.234000</td>\n",
       "      <td>0.104494</td>\n",
       "      <td>11.960000</td>\n",
       "      <td>0.080333</td>\n",
       "    </tr>\n",
       "    <tr>\n",
       "      <th>75%</th>\n",
       "      <td>75.000000</td>\n",
       "      <td>1.000000</td>\n",
       "      <td>72.000000</td>\n",
       "      <td>66.000000</td>\n",
       "      <td>13.000000</td>\n",
       "      <td>84.000000</td>\n",
       "      <td>213.000000</td>\n",
       "      <td>2006.000000</td>\n",
       "      <td>45.515644</td>\n",
       "      <td>0.402117</td>\n",
       "      <td>4.832972</td>\n",
       "      <td>0.994600</td>\n",
       "      <td>0.222000</td>\n",
       "      <td>0.116000</td>\n",
       "      <td>103.000000</td>\n",
       "      <td>13.097000</td>\n",
       "      <td>0.089331</td>\n",
       "      <td>5.270000</td>\n",
       "      <td>0.034127</td>\n",
       "      <td>3.360000</td>\n",
       "      <td>0.019558</td>\n",
       "      <td>2.460000</td>\n",
       "      <td>0.014513</td>\n",
       "      <td>10.604000</td>\n",
       "      <td>0.063727</td>\n",
       "      <td>5.432000</td>\n",
       "      <td>0.034101</td>\n",
       "      <td>4.196000</td>\n",
       "      <td>0.025041</td>\n",
       "      <td>2.350000</td>\n",
       "      <td>0.014273</td>\n",
       "      <td>46.540000</td>\n",
       "      <td>25.618000</td>\n",
       "      <td>0.161796</td>\n",
       "      <td>20.746000</td>\n",
       "      <td>0.123071</td>\n",
       "    </tr>\n",
       "    <tr>\n",
       "      <th>max</th>\n",
       "      <td>100.000000</td>\n",
       "      <td>10.000000</td>\n",
       "      <td>100.000000</td>\n",
       "      <td>100.000000</td>\n",
       "      <td>87.000000</td>\n",
       "      <td>395.000000</td>\n",
       "      <td>1363.000000</td>\n",
       "      <td>2020.000000</td>\n",
       "      <td>205.195789</td>\n",
       "      <td>1.000000</td>\n",
       "      <td>11.743619</td>\n",
       "      <td>1.000000</td>\n",
       "      <td>0.745000</td>\n",
       "      <td>0.726000</td>\n",
       "      <td>774.000000</td>\n",
       "      <td>139.523000</td>\n",
       "      <td>0.483700</td>\n",
       "      <td>67.410000</td>\n",
       "      <td>0.327168</td>\n",
       "      <td>85.108000</td>\n",
       "      <td>0.298526</td>\n",
       "      <td>60.481000</td>\n",
       "      <td>0.263071</td>\n",
       "      <td>100.805000</td>\n",
       "      <td>0.559818</td>\n",
       "      <td>73.396000</td>\n",
       "      <td>0.375000</td>\n",
       "      <td>61.682000</td>\n",
       "      <td>0.354896</td>\n",
       "      <td>81.191000</td>\n",
       "      <td>0.284482</td>\n",
       "      <td>416.824000</td>\n",
       "      <td>261.186000</td>\n",
       "      <td>0.930187</td>\n",
       "      <td>231.951000</td>\n",
       "      <td>1.002444</td>\n",
       "    </tr>\n",
       "  </tbody>\n",
       "</table>\n",
       "</div>"
      ],
      "text/plain": [
       "       Week Position       Instance  Previous Week Position  Peak Position  \\\n",
       "count  327895.000000  327895.000000           295941.000000  327895.000000   \n",
       "mean       50.499309       1.072538               47.604066      41.358307   \n",
       "std        28.865707       0.334188               28.056915      29.542497   \n",
       "min         1.000000       1.000000                1.000000       1.000000   \n",
       "25%        25.500000       1.000000               23.000000      14.000000   \n",
       "50%        50.000000       1.000000               47.000000      39.000000   \n",
       "75%        75.000000       1.000000               72.000000      66.000000   \n",
       "max       100.000000      10.000000              100.000000     100.000000   \n",
       "\n",
       "       Weeks on Chart      wordCount   allWordCount           year  \\\n",
       "count   327895.000000  269355.000000  269355.000000  269355.000000   \n",
       "mean         9.153793      74.242334     175.871786    1990.483941   \n",
       "std          7.590281      45.281149     104.450682      17.646991   \n",
       "min          1.000000       1.000000       1.000000    1958.000000   \n",
       "25%          4.000000      47.000000     105.000000    1976.000000   \n",
       "50%          7.000000      62.000000     146.000000    1991.000000   \n",
       "75%         13.000000      84.000000     213.000000    2006.000000   \n",
       "max         87.000000     395.000000    1363.000000    2020.000000   \n",
       "\n",
       "                MTLD            TTR           CTTR  sentimentScore  \\\n",
       "count  269355.000000  269355.000000  269355.000000   269355.000000   \n",
       "mean       35.873440       0.342439       4.231602        0.487275   \n",
       "std        18.624751       0.101897       1.183552        0.782028   \n",
       "min         1.000000       0.009238       0.135926       -0.999900   \n",
       "25%        22.423604       0.271021       3.444401        0.011600   \n",
       "50%        32.048999       0.331126       4.071432        0.969600   \n",
       "75%        45.515644       0.402117       4.832972        0.994600   \n",
       "max       205.195789       1.000000      11.743619        1.000000   \n",
       "\n",
       "       sentimentScore_pos  sentimentScore_neg   emoWordCount            joy  \\\n",
       "count       269355.000000       269355.000000  269355.000000  269355.000000   \n",
       "mean             0.168049            0.083886      80.446960      10.204082   \n",
       "std              0.098949            0.072694      53.392857       8.448962   \n",
       "min              0.000000            0.000000       0.000000       0.000000   \n",
       "25%              0.096000            0.032000      44.000000       4.655000   \n",
       "50%              0.150000            0.065000      67.000000       8.075000   \n",
       "75%              0.222000            0.116000     103.000000      13.097000   \n",
       "max              0.745000            0.726000     774.000000     139.523000   \n",
       "\n",
       "       joy_normalized        sadness  sadness_normalized          anger  \\\n",
       "count   269355.000000  269355.000000       269355.000000  269355.000000   \n",
       "mean         0.066302       3.959016            0.025495       2.832443   \n",
       "std          0.050177       4.188860            0.026725       4.435792   \n",
       "min          0.000000       0.000000            0.000000       0.000000   \n",
       "25%          0.029801       1.219000            0.008015       0.438000   \n",
       "50%          0.053653       2.780000            0.017735       1.339000   \n",
       "75%          0.089331       5.270000            0.034127       3.360000   \n",
       "max          0.483700      67.410000            0.327168      85.108000   \n",
       "\n",
       "       anger_normalized        disgust  disgust_normalized          trust  \\\n",
       "count     269355.000000  269355.000000       269355.000000  269355.000000   \n",
       "mean           0.014512       2.086039            0.011103       7.965993   \n",
       "std            0.018083       3.363149            0.015069       7.197093   \n",
       "min            0.000000       0.000000            0.000000       0.000000   \n",
       "25%            0.003202       0.250000            0.001812       3.088000   \n",
       "50%            0.009259       0.984000            0.006494       6.003000   \n",
       "75%            0.019558       2.460000            0.014513      10.604000   \n",
       "max            0.298526      60.481000            0.263071     100.805000   \n",
       "\n",
       "       trust_normalized   anticipation  anticipation_normalized  \\\n",
       "count     269355.000000  269355.000000            269355.000000   \n",
       "mean           0.048885       4.170399                 0.026035   \n",
       "std            0.039670       4.107091                 0.023252   \n",
       "min            0.000000       0.000000                 0.000000   \n",
       "25%            0.022323       1.569000                 0.010630   \n",
       "50%            0.038497       3.096000                 0.019890   \n",
       "75%            0.063727       5.432000                 0.034101   \n",
       "max            0.559818      73.396000                 0.375000   \n",
       "\n",
       "                fear  fear_normalized       surprise  surprise_normalized  \\\n",
       "count  269355.000000    269355.000000  269355.000000        269355.000000   \n",
       "mean        3.238855         0.018841       1.860083             0.011209   \n",
       "std         4.106952         0.021406       2.722920             0.014281   \n",
       "min         0.000000         0.000000       0.000000             0.000000   \n",
       "25%         0.719000         0.005208       0.461000             0.003127   \n",
       "50%         1.935000         0.012700       1.142000             0.007357   \n",
       "75%         4.196000         0.025041       2.350000             0.014273   \n",
       "max        61.682000         0.354896      81.191000             0.284482   \n",
       "\n",
       "           emo_score          happy  happy_normalized         sorrow  \\\n",
       "count  269355.000000  269355.000000     269355.000000  269355.000000   \n",
       "mean       36.316909      20.030158          0.126397      16.286752   \n",
       "std        24.898036      15.448386          0.087179      15.045816   \n",
       "min         0.000000       0.000000          0.000000       0.000000   \n",
       "25%        19.441000       9.737000          0.066667       6.833000   \n",
       "50%        30.059000      16.234000          0.104494      11.960000   \n",
       "75%        46.540000      25.618000          0.161796      20.746000   \n",
       "max       416.824000     261.186000          0.930187     231.951000   \n",
       "\n",
       "       sorrow_normalized  \n",
       "count      269355.000000  \n",
       "mean            0.095986  \n",
       "std             0.069288  \n",
       "min             0.000000  \n",
       "25%             0.050038  \n",
       "50%             0.080333  \n",
       "75%             0.123071  \n",
       "max             1.002444  "
      ]
     },
     "execution_count": 16,
     "metadata": {},
     "output_type": "execute_result"
    }
   ],
   "source": [
    "df_emo_full.describe()"
   ]
  },
  {
   "cell_type": "markdown",
   "metadata": {},
   "source": [
    "#### Question: Do some songs actually have less than 5 lyrics?"
   ]
  },
  {
   "cell_type": "code",
   "execution_count": 17,
   "metadata": {},
   "outputs": [
    {
     "data": {
      "text/plain": [
       "SongID                                          wordCount\n",
       "Around The WorldDaft Punk                       3.0          20\n",
       "The HustleVan McCoy And The Soul City Symphony  1.0          19\n",
       "Fly, Robin, FlySilver Convention                3.0          17\n",
       "Do It Any Way You WannaPeoples Choice           4.0          16\n",
       "HijackHerbie Mann                               1.0          15\n",
       "Walk In The NightJr. Walker & The All Stars     2.0          12\n",
       "RockitHerbie Hancock                            2.0           9\n",
       "The PopcornJames Brown                          3.0           9\n",
       "Your LoveKeith Sweat                            4.0           9\n",
       "Cleo's BackJr. Walker & The All Stars           3.0           8\n",
       "Mr. SongwriterConnie Stevens                    4.0           8\n",
       "Peace Brother PeaceBill Medley                  3.0           7\n",
       "Lowdown PopcornJames Brown                      1.0           6\n",
       "Beautiful TripKid Cudi                          4.0           1\n",
       "dtype: int64"
      ]
     },
     "execution_count": 17,
     "metadata": {},
     "output_type": "execute_result"
    }
   ],
   "source": [
    "lyric_check = df_emo_full[df_emo_full['wordCount'] < 5]\n",
    "lyric_check[['SongID', 'wordCount']].value_counts()"
   ]
  },
  {
   "cell_type": "markdown",
   "metadata": {},
   "source": [
    "#### Question: Is Previous Week Position missing or 0 when a new song enters the chart? "
   ]
  },
  {
   "cell_type": "code",
   "execution_count": 18,
   "metadata": {},
   "outputs": [
    {
     "name": "stdout",
     "output_type": "stream",
     "text": [
      "1.0\n",
      "31954\n"
     ]
    }
   ],
   "source": [
    "print(df_emo_full['Previous Week Position'].min())\n",
    "print(df_emo_full['Previous Week Position'].isnull().sum())"
   ]
  },
  {
   "cell_type": "markdown",
   "metadata": {},
   "source": [
    "### Fill missing Previous Week Position with 999."
   ]
  },
  {
   "cell_type": "code",
   "execution_count": 19,
   "metadata": {},
   "outputs": [],
   "source": [
    "df_emo_full['Previous Week Position'] = df_emo_full['Previous Week Position'].fillna(999)"
   ]
  },
  {
   "cell_type": "markdown",
   "metadata": {},
   "source": [
    "#### Answer: It appears that new songs have a \"Previous Week Position\" of missing. "
   ]
  },
  {
   "cell_type": "markdown",
   "metadata": {},
   "source": [
    "#### Question: What are the distributions of numberical variables visualized?"
   ]
  },
  {
   "cell_type": "code",
   "execution_count": 20,
   "metadata": {},
   "outputs": [
    {
     "data": {
      "image/png": "[encoded data removed]",
      "text/plain": [
       "<Figure size 1080x720 with 36 Axes>"
      ]
     },
     "metadata": {
      "needs_background": "light"
     },
     "output_type": "display_data"
    }
   ],
   "source": [
    "df_emo_full.hist(figsize = (15,10))\n",
    "plt.subplots_adjust(hspace=.5);"
   ]
  },
  {
   "cell_type": "markdown",
   "metadata": {},
   "source": [
    "#### Question: The emotional variables look skewed, explore this further.\n",
    "Note: The \"normalized\" emotional variable take into account \"word count\" for each song. These may be more reliable measures."
   ]
  },
  {
   "cell_type": "code",
   "execution_count": 21,
   "metadata": {},
   "outputs": [
    {
     "name": "stdout",
     "output_type": "stream",
     "text": [
      "Summary for  joy_normalized :\n",
      "0.0    0.000000\n",
      "0.1    0.016901\n",
      "0.2    0.025651\n",
      "0.3    0.034087\n",
      "0.4    0.043521\n",
      "0.5    0.053653\n",
      "0.6    0.065354\n",
      "0.7    0.080205\n",
      "0.8    0.099929\n",
      "0.9    0.132831\n",
      "1.0    0.483700\n",
      "Name: joy_normalized, dtype: float64\n",
      "0.06630231306866584\n",
      "Summary for  sadness_normalized :\n",
      "0.0    0.000000\n",
      "0.1    0.002892\n",
      "0.2    0.006370\n",
      "0.3    0.009655\n",
      "0.4    0.013441\n",
      "0.5    0.017735\n",
      "0.6    0.022959\n",
      "0.7    0.029551\n",
      "0.8    0.039514\n",
      "0.9    0.056691\n",
      "1.0    0.327168\n",
      "Name: sadness_normalized, dtype: float64\n",
      "0.02549511576771733\n",
      "Summary for  anger_normalized :\n",
      "0.0    0.000000\n",
      "0.1    0.000000\n",
      "0.2    0.002033\n",
      "0.3    0.004275\n",
      "0.4    0.006593\n",
      "0.5    0.009259\n",
      "0.6    0.012575\n",
      "0.7    0.016831\n",
      "0.8    0.022827\n",
      "0.9    0.033691\n",
      "1.0    0.298526\n",
      "Name: anger_normalized, dtype: float64\n",
      "0.014512188968819492\n",
      "Summary for  disgust_normalized :\n",
      "0.0    0.000000\n",
      "0.1    0.000000\n",
      "0.2    0.000836\n",
      "0.3    0.002795\n",
      "0.4    0.004566\n",
      "0.5    0.006494\n",
      "0.6    0.008979\n",
      "0.7    0.012329\n",
      "0.8    0.017163\n",
      "0.9    0.026695\n",
      "1.0    0.263071\n",
      "Name: disgust_normalized, dtype: float64\n",
      "0.011103013849630725\n",
      "Summary for  trust_normalized :\n",
      "0.0    0.000000\n",
      "0.1    0.012155\n",
      "0.2    0.019267\n",
      "0.3    0.025280\n",
      "0.4    0.031505\n",
      "0.5    0.038497\n",
      "0.6    0.046940\n",
      "0.7    0.057301\n",
      "0.8    0.072103\n",
      "0.9    0.098769\n",
      "1.0    0.559818\n",
      "Name: trust_normalized, dtype: float64\n",
      "0.048885067574147296\n",
      "Summary for  anticipation_normalized :\n",
      "0.0    0.000000\n",
      "0.1    0.005093\n",
      "0.2    0.008890\n",
      "0.3    0.012306\n",
      "0.4    0.015883\n",
      "0.5    0.019890\n",
      "0.6    0.024578\n",
      "0.7    0.030364\n",
      "0.8    0.039054\n",
      "0.9    0.054065\n",
      "1.0    0.375000\n",
      "Name: anticipation_normalized, dtype: float64\n",
      "0.026034858402717184\n",
      "Summary for  fear_normalized :\n",
      "0.0    0.000000\n",
      "0.1    0.000000\n",
      "0.2    0.003820\n",
      "0.3    0.006603\n",
      "0.4    0.009389\n",
      "0.5    0.012700\n",
      "0.6    0.016645\n",
      "0.7    0.021947\n",
      "0.8    0.029051\n",
      "0.9    0.042694\n",
      "1.0    0.354896\n",
      "Name: fear_normalized, dtype: float64\n",
      "0.018840902470003112\n",
      "Summary for  surprise_normalized :\n",
      "0.0    0.000000\n",
      "0.1    0.000000\n",
      "0.2    0.002378\n",
      "0.3    0.003909\n",
      "0.4    0.005525\n",
      "0.5    0.007357\n",
      "0.6    0.009557\n",
      "0.7    0.012341\n",
      "0.8    0.016624\n",
      "0.9    0.024478\n",
      "1.0    0.284482\n",
      "Name: surprise_normalized, dtype: float64\n",
      "0.011209283766465445\n",
      "Summary for  happy_normalized :\n",
      "0.0    0.000000\n",
      "0.1    0.043502\n",
      "0.2    0.059693\n",
      "0.3    0.073033\n",
      "0.4    0.087132\n",
      "0.5    0.104494\n",
      "0.6    0.123353\n",
      "0.7    0.147257\n",
      "0.8    0.179991\n",
      "0.9    0.240820\n",
      "1.0    0.930187\n",
      "Name: happy_normalized, dtype: float64\n",
      "0.12639666440928288\n",
      "Summary for  sorrow_normalized :\n",
      "0.0    0.000000\n",
      "0.1    0.030736\n",
      "0.2    0.044062\n",
      "0.3    0.056063\n",
      "0.4    0.067485\n",
      "0.5    0.080333\n",
      "0.6    0.095017\n",
      "0.7    0.112408\n",
      "0.8    0.135410\n",
      "0.9    0.177932\n",
      "1.0    1.002444\n",
      "Name: sorrow_normalized, dtype: float64\n",
      "0.09598607945890072\n",
      "Summary for  emo_score :\n",
      "0.0      0.000\n",
      "0.1     12.846\n",
      "0.2     17.357\n",
      "0.3     21.434\n",
      "0.4     25.442\n",
      "0.5     30.059\n",
      "0.6     35.592\n",
      "0.7     42.228\n",
      "0.8     51.788\n",
      "0.9     67.733\n",
      "1.0    416.824\n",
      "Name: emo_score, dtype: float64\n",
      "36.31690922017031\n",
      "Summary for  emoWordCount :\n",
      "0.0      0.0\n",
      "0.1     30.0\n",
      "0.2     40.0\n",
      "0.3     48.0\n",
      "0.4     58.0\n",
      "0.5     67.0\n",
      "0.6     78.0\n",
      "0.7     93.0\n",
      "0.8    114.0\n",
      "0.9    147.0\n",
      "1.0    774.0\n",
      "Name: emoWordCount, dtype: float64\n",
      "80.44696033116148\n",
      "Summary for  sentimentScore :\n",
      "0.0   -0.9999\n",
      "0.1   -0.9781\n",
      "0.2   -0.6808\n",
      "0.3    0.6582\n",
      "0.4    0.9219\n",
      "0.5    0.9696\n",
      "0.6    0.9859\n",
      "0.7    0.9926\n",
      "0.8    0.9963\n",
      "0.9    0.9984\n",
      "1.0    1.0000\n",
      "Name: sentimentScore, dtype: float64\n",
      "0.4872746100870942\n",
      "Summary for  sentimentScore_pos :\n",
      "0.0    0.000\n",
      "0.1    0.059\n",
      "0.2    0.084\n",
      "0.3    0.106\n",
      "0.4    0.127\n",
      "0.5    0.150\n",
      "0.6    0.175\n",
      "0.7    0.204\n",
      "0.8    0.244\n",
      "0.9    0.305\n",
      "1.0    0.745\n",
      "Name: sentimentScore_pos, dtype: float64\n",
      "0.16804909134785806\n",
      "Summary for  sentimentScore_neg :\n",
      "0.0    0.000\n",
      "0.1    0.012\n",
      "0.2    0.026\n",
      "0.3    0.038\n",
      "0.4    0.051\n",
      "0.5    0.065\n",
      "0.6    0.082\n",
      "0.7    0.103\n",
      "0.8    0.132\n",
      "0.9    0.180\n",
      "1.0    0.726\n",
      "Name: sentimentScore_neg, dtype: float64\n",
      "0.08388641012789477\n"
     ]
    }
   ],
   "source": [
    "for i in [\"joy_normalized\", \"sadness_normalized\", \"anger_normalized\", \"disgust_normalized\", \"trust_normalized\", \"anticipation_normalized\", \"fear_normalized\", \"surprise_normalized\", \"happy_normalized\", \"sorrow_normalized\", \"emo_score\", \"emoWordCount\", \"sentimentScore\", \"sentimentScore_pos\", \"sentimentScore_neg\"]:\n",
    "    print(\"Summary for \", i, \":\")\n",
    "    print(df_emo_full[i].quantile(np.arange(0, 1.1, .1)))\n",
    "    print(df_emo_full[i].mean())"
   ]
  },
  {
   "cell_type": "markdown",
   "metadata": {},
   "source": [
    "#### Question: Are the emotion scores associated with decade? "
   ]
  },
  {
   "cell_type": "code",
   "execution_count": 22,
   "metadata": {},
   "outputs": [
    {
     "data": {
      "image/png": "[encoded data removed]",
      "text/plain": [
       "<Figure size 360x360 with 1 Axes>"
      ]
     },
     "metadata": {
      "needs_background": "light"
     },
     "output_type": "display_data"
    },
    {
     "data": {
      "image/png": "[encoded data removed]",
      "text/plain": [
       "<Figure size 360x360 with 1 Axes>"
      ]
     },
     "metadata": {
      "needs_background": "light"
     },
     "output_type": "display_data"
    },
    {
     "data": {
      "image/png": "[encoded data removed]",
      "text/plain": [
       "<Figure size 360x360 with 1 Axes>"
      ]
     },
     "metadata": {
      "needs_background": "light"
     },
     "output_type": "display_data"
    },
    {
     "data": {
      "image/png": "[encoded data removed]",
      "text/plain": [
       "<Figure size 360x360 with 1 Axes>"
      ]
     },
     "metadata": {
      "needs_background": "light"
     },
     "output_type": "display_data"
    },
    {
     "data": {
      "image/png": "[encoded data removed]",
      "text/plain": [
       "<Figure size 360x360 with 1 Axes>"
      ]
     },
     "metadata": {
      "needs_background": "light"
     },
     "output_type": "display_data"
    },
    {
     "data": {
      "image/png": "[encoded data removed]",
      "text/plain": [
       "<Figure size 360x360 with 1 Axes>"
      ]
     },
     "metadata": {
      "needs_background": "light"
     },
     "output_type": "display_data"
    },
    {
     "data": {
      "image/png": "[encoded data removed]",
      "text/plain": [
       "<Figure size 360x360 with 1 Axes>"
      ]
     },
     "metadata": {
      "needs_background": "light"
     },
     "output_type": "display_data"
    },
    {
     "data": {
      "image/png": "[encoded data removed]",
      "text/plain": [
       "<Figure size 360x360 with 1 Axes>"
      ]
     },
     "metadata": {
      "needs_background": "light"
     },
     "output_type": "display_data"
    },
    {
     "data": {
      "image/png": "[encoded data removed]",
      "text/plain": [
       "<Figure size 360x360 with 1 Axes>"
      ]
     },
     "metadata": {
      "needs_background": "light"
     },
     "output_type": "display_data"
    },
    {
     "data": {
      "image/png": "[encoded data removed]",
      "text/plain": [
       "<Figure size 360x360 with 1 Axes>"
      ]
     },
     "metadata": {
      "needs_background": "light"
     },
     "output_type": "display_data"
    },
    {
     "data": {
      "image/png": "[encoded data removed]",
      "text/plain": [
       "<Figure size 360x360 with 1 Axes>"
      ]
     },
     "metadata": {
      "needs_background": "light"
     },
     "output_type": "display_data"
    }
   ],
   "source": [
    "decade_order = [\"50s\", \"60s\", \"70s\", \"80s\", \"90s\", \"00s\", \"10s\", \"20s\"]\n",
    "sns.catplot(data = df_emo_full, x = \"decade\", y = \"joy_normalized\", kind = \"box\", order = decade_order, sym = \"\")\n",
    "sns.catplot(data = df_emo_full, x = \"decade\", y = \"sadness_normalized\", kind = \"box\", order = decade_order, sym = \"\")\n",
    "sns.catplot(data = df_emo_full, x = \"decade\", y = \"anger_normalized\", kind = \"box\", order = decade_order, sym = \"\")\n",
    "sns.catplot(data = df_emo_full, x = \"decade\", y = \"disgust_normalized\", kind = \"box\", order = decade_order, sym = \"\")\n",
    "sns.catplot(data = df_emo_full, x = \"decade\", y = \"trust_normalized\", kind = \"box\", order = decade_order, sym = \"\")\n",
    "sns.catplot(data = df_emo_full, x = \"decade\", y = \"anticipation_normalized\", kind = \"box\", order = decade_order, sym = \"\")\n",
    "sns.catplot(data = df_emo_full, x = \"decade\", y = \"fear_normalized\", kind = \"box\", order = decade_order, sym = \"\")\n",
    "sns.catplot(data = df_emo_full, x = \"decade\", y = \"surprise_normalized\", kind = \"box\", order = decade_order, sym = \"\")\n",
    "sns.catplot(data = df_emo_full, x = \"decade\", y = \"happy_normalized\", kind = \"box\", order = decade_order, sym = \"\")\n",
    "sns.catplot(data = df_emo_full, x = \"decade\", y = \"sorrow_normalized\", kind = \"box\", order = decade_order, sym = \"\")\n",
    "sns.catplot(data = df_emo_full, x = \"decade\", y = \"emo_score\", kind = \"box\", order = decade_order, sym = \"\")\n",
    "plt.xticks(rotation = 90)\n",
    "plt.show()"
   ]
  },
  {
   "cell_type": "markdown",
   "metadata": {},
   "source": [
    "#### Answer: There appears to be some trend between emotional scores and decade. This is not the case for each score however. The largest differences in median appear to be in Joy, Anger, and Disgust."
   ]
  },
  {
   "cell_type": "markdown",
   "metadata": {},
   "source": [
    "#### Question: What does the decade distribution of other missing variables look like? "
   ]
  },
  {
   "cell_type": "code",
   "execution_count": 23,
   "metadata": {},
   "outputs": [
    {
     "data": {
      "image/png": "[encoded data removed]",
      "text/plain": [
       "<Figure size 360x360 with 1 Axes>"
      ]
     },
     "metadata": {
      "needs_background": "light"
     },
     "output_type": "display_data"
    },
    {
     "data": {
      "image/png": "[encoded data removed]",
      "text/plain": [
       "<Figure size 360x360 with 1 Axes>"
      ]
     },
     "metadata": {
      "needs_background": "light"
     },
     "output_type": "display_data"
    },
    {
     "data": {
      "image/png": "[encoded data removed]",
      "text/plain": [
       "<Figure size 360x360 with 1 Axes>"
      ]
     },
     "metadata": {
      "needs_background": "light"
     },
     "output_type": "display_data"
    },
    {
     "data": {
      "image/png": "[encoded data removed]",
      "text/plain": [
       "<Figure size 360x360 with 1 Axes>"
      ]
     },
     "metadata": {
      "needs_background": "light"
     },
     "output_type": "display_data"
    },
    {
     "data": {
      "image/png": "[encoded data removed]",
      "text/plain": [
       "<Figure size 360x360 with 1 Axes>"
      ]
     },
     "metadata": {
      "needs_background": "light"
     },
     "output_type": "display_data"
    },
    {
     "data": {
      "image/png": "[encoded data removed]",
      "text/plain": [
       "<Figure size 360x360 with 1 Axes>"
      ]
     },
     "metadata": {
      "needs_background": "light"
     },
     "output_type": "display_data"
    }
   ],
   "source": [
    "decade_order = [\"50s\", \"60s\", \"70s\", \"80s\", \"90s\", \"00s\", \"10s\", \"20s\"]\n",
    "sns.catplot(data = df_emo_full, x = \"decade\", y = \"wordCount\", kind = \"box\", order = decade_order, sym = \"\")\n",
    "sns.catplot(data = df_emo_full, x = \"decade\", y = \"allWordCount\", kind = \"box\", order = decade_order, sym = \"\")\n",
    "sns.catplot(data = df_emo_full, x = \"decade\", y = \"MTLD\", kind = \"box\", order = decade_order, sym = \"\")\n",
    "sns.catplot(data = df_emo_full, x = \"decade\", y = \"TTR\", kind = \"box\", order = decade_order, sym = \"\")\n",
    "sns.catplot(data = df_emo_full, x = \"decade\", y = \"CTTR\", kind = \"box\", order = decade_order, sym = \"\")\n",
    "sns.catplot(data = df_emo_full, x = \"decade\", y = \"emoWordCount\", kind = \"box\", order = decade_order, sym = \"\")\n",
    "plt.show()"
   ]
  },
  {
   "cell_type": "markdown",
   "metadata": {},
   "source": [
    "#### Answer: These variables also appear to have some relation to decade."
   ]
  },
  {
   "cell_type": "markdown",
   "metadata": {},
   "source": [
    "## 5. Fill Missing Values"
   ]
  },
  {
   "cell_type": "markdown",
   "metadata": {},
   "source": [
    "Re-visit the missing values in our dataset. What are they?"
   ]
  },
  {
   "cell_type": "code",
   "execution_count": 24,
   "metadata": {},
   "outputs": [],
   "source": [
    "missing = pd.concat([df_emo_full.isnull().sum(), 100 * df_emo_full.isnull().mean()], axis=1)\n",
    "missing.columns=[\"count\", \"%\"]\n",
    "missing.sort_values(by=\"count\", ascending = False);\n",
    "#Remove \";\" to see output"
   ]
  },
  {
   "cell_type": "markdown",
   "metadata": {},
   "source": [
    "Almost 18% of our emotion data scores are missing. Due to the skewed distribution of these scores, we will fill missing values with the \"median\" value. A potential future verison may use the respective decade median for supplementation, since we see some differences in the medians for each decade."
   ]
  },
  {
   "cell_type": "code",
   "execution_count": 25,
   "metadata": {},
   "outputs": [],
   "source": [
    "for i in [\"wordCount\", \"allWordCount\", \"MTLD\", \"TTR\", \"CTTR\", \"emoWordCount\", \"joy\", \"joy_normalized\", \"sadness\", \"sadness_normalized\", \"anger\", \"anger_normalized\", \"disgust\", \"disgust_normalized\", \"trust\", \"trust_normalized\", \"anticipation\", \"anticipation_normalized\", \"fear\", \"fear_normalized\", \"surprise\", \"surprise_normalized\", \"emo_score\", \"happy\", \"happy_normalized\", \"sorrow\", \"sorrow_normalized\", \"sentimentScore_pos\", \"sentimentScore_neg\"]:\n",
    "    df_emo_full[i].fillna(df_emo_full[i].median(), inplace = True)"
   ]
  },
  {
   "cell_type": "markdown",
   "metadata": {},
   "source": [
    "In our distributions, we see that \"sentimentScore\" has an odd distribution. We will supplement missing values with \"0\" for this case."
   ]
  },
  {
   "cell_type": "code",
   "execution_count": 26,
   "metadata": {},
   "outputs": [],
   "source": [
    "df_emo_full['sentimentScore'] = df_emo_full['sentimentScore'].fillna(0)"
   ]
  },
  {
   "cell_type": "markdown",
   "metadata": {},
   "source": [
    "We have missing \"decade\" and \"year\" information. These can be supplemented from our \"YearID\" variable we created earlier. "
   ]
  },
  {
   "cell_type": "code",
   "execution_count": 27,
   "metadata": {},
   "outputs": [
    {
     "data": {
      "text/plain": [
       "dtype('float64')"
      ]
     },
     "execution_count": 27,
     "metadata": {},
     "output_type": "execute_result"
    }
   ],
   "source": [
    "df_emo_full[\"year\"].dtypes"
   ]
  },
  {
   "cell_type": "code",
   "execution_count": 28,
   "metadata": {},
   "outputs": [],
   "source": [
    "df_emo_full[\"year\"] = df_emo_full[\"year\"].fillna(df_emo_full[\"YearID\"].astype(float))\n"
   ]
  },
  {
   "cell_type": "code",
   "execution_count": 29,
   "metadata": {},
   "outputs": [],
   "source": [
    "df_emo_full['year_temp'] = df_emo_full[\"YearID\"].str[-2:].astype(int)\n",
    "df_emo_full.loc[df_emo_full['year_temp'].between(50, 59), 'DecadeID'] = '50s'\n",
    "df_emo_full.loc[df_emo_full['year_temp'].between(60, 69), 'DecadeID'] = '60s'\n",
    "df_emo_full.loc[df_emo_full['year_temp'].between(70, 79), 'DecadeID'] = '70s'\n",
    "df_emo_full.loc[df_emo_full['year_temp'].between(80, 89), 'DecadeID'] = '80s'\n",
    "df_emo_full.loc[df_emo_full['year_temp'] > 90, 'DecadeID'] = '90s'\n",
    "df_emo_full.loc[df_emo_full['year_temp'].between(0, 9), 'DecadeID'] = '00s'\n",
    "df_emo_full.loc[df_emo_full['year_temp'].between(10, 19), 'DecadeID'] = '10s'\n",
    "df_emo_full.loc[df_emo_full['year_temp'].between(20, 29), 'DecadeID'] = '20s'\n",
    "\n",
    "df_emo_full['decade'] = df_emo_full['decade'].fillna(df_emo_full['DecadeID'])"
   ]
  },
  {
   "cell_type": "code",
   "execution_count": 30,
   "metadata": {},
   "outputs": [
    {
     "data": {
      "text/html": [
       "<div>\n",
       "<style scoped>\n",
       "    .dataframe tbody tr th:only-of-type {\n",
       "        vertical-align: middle;\n",
       "    }\n",
       "\n",
       "    .dataframe tbody tr th {\n",
       "        vertical-align: top;\n",
       "    }\n",
       "\n",
       "    .dataframe thead th {\n",
       "        text-align: right;\n",
       "    }\n",
       "</style>\n",
       "<table border=\"1\" class=\"dataframe\">\n",
       "  <thead>\n",
       "    <tr style=\"text-align: right;\">\n",
       "      <th></th>\n",
       "      <th>count</th>\n",
       "      <th>%</th>\n",
       "    </tr>\n",
       "  </thead>\n",
       "  <tbody>\n",
       "    <tr>\n",
       "      <th>languages</th>\n",
       "      <td>58540</td>\n",
       "      <td>17.853276</td>\n",
       "    </tr>\n",
       "    <tr>\n",
       "      <th>Lyrics</th>\n",
       "      <td>58540</td>\n",
       "      <td>17.853276</td>\n",
       "    </tr>\n",
       "    <tr>\n",
       "      <th>emo_words</th>\n",
       "      <td>58540</td>\n",
       "      <td>17.853276</td>\n",
       "    </tr>\n",
       "    <tr>\n",
       "      <th>all_words</th>\n",
       "      <td>58540</td>\n",
       "      <td>17.853276</td>\n",
       "    </tr>\n",
       "    <tr>\n",
       "      <th>words</th>\n",
       "      <td>58540</td>\n",
       "      <td>17.853276</td>\n",
       "    </tr>\n",
       "    <tr>\n",
       "      <th>Artist</th>\n",
       "      <td>58540</td>\n",
       "      <td>17.853276</td>\n",
       "    </tr>\n",
       "    <tr>\n",
       "      <th>DecadeID</th>\n",
       "      <td>5200</td>\n",
       "      <td>1.585874</td>\n",
       "    </tr>\n",
       "    <tr>\n",
       "      <th>decade</th>\n",
       "      <td>753</td>\n",
       "      <td>0.229647</td>\n",
       "    </tr>\n",
       "    <tr>\n",
       "      <th>happy</th>\n",
       "      <td>0</td>\n",
       "      <td>0.000000</td>\n",
       "    </tr>\n",
       "    <tr>\n",
       "      <th>anger_normalized</th>\n",
       "      <td>0</td>\n",
       "      <td>0.000000</td>\n",
       "    </tr>\n",
       "    <tr>\n",
       "      <th>disgust</th>\n",
       "      <td>0</td>\n",
       "      <td>0.000000</td>\n",
       "    </tr>\n",
       "    <tr>\n",
       "      <th>year_temp</th>\n",
       "      <td>0</td>\n",
       "      <td>0.000000</td>\n",
       "    </tr>\n",
       "    <tr>\n",
       "      <th>disgust_normalized</th>\n",
       "      <td>0</td>\n",
       "      <td>0.000000</td>\n",
       "    </tr>\n",
       "    <tr>\n",
       "      <th>trust</th>\n",
       "      <td>0</td>\n",
       "      <td>0.000000</td>\n",
       "    </tr>\n",
       "    <tr>\n",
       "      <th>trust_normalized</th>\n",
       "      <td>0</td>\n",
       "      <td>0.000000</td>\n",
       "    </tr>\n",
       "    <tr>\n",
       "      <th>anticipation</th>\n",
       "      <td>0</td>\n",
       "      <td>0.000000</td>\n",
       "    </tr>\n",
       "    <tr>\n",
       "      <th>anticipation_normalized</th>\n",
       "      <td>0</td>\n",
       "      <td>0.000000</td>\n",
       "    </tr>\n",
       "    <tr>\n",
       "      <th>fear</th>\n",
       "      <td>0</td>\n",
       "      <td>0.000000</td>\n",
       "    </tr>\n",
       "    <tr>\n",
       "      <th>happy_normalized</th>\n",
       "      <td>0</td>\n",
       "      <td>0.000000</td>\n",
       "    </tr>\n",
       "    <tr>\n",
       "      <th>fear_normalized</th>\n",
       "      <td>0</td>\n",
       "      <td>0.000000</td>\n",
       "    </tr>\n",
       "    <tr>\n",
       "      <th>surprise</th>\n",
       "      <td>0</td>\n",
       "      <td>0.000000</td>\n",
       "    </tr>\n",
       "    <tr>\n",
       "      <th>YearID</th>\n",
       "      <td>0</td>\n",
       "      <td>0.000000</td>\n",
       "    </tr>\n",
       "    <tr>\n",
       "      <th>sadness_normalized</th>\n",
       "      <td>0</td>\n",
       "      <td>0.000000</td>\n",
       "    </tr>\n",
       "    <tr>\n",
       "      <th>surprise_normalized</th>\n",
       "      <td>0</td>\n",
       "      <td>0.000000</td>\n",
       "    </tr>\n",
       "    <tr>\n",
       "      <th>_merge</th>\n",
       "      <td>0</td>\n",
       "      <td>0.000000</td>\n",
       "    </tr>\n",
       "    <tr>\n",
       "      <th>sorrow_normalized</th>\n",
       "      <td>0</td>\n",
       "      <td>0.000000</td>\n",
       "    </tr>\n",
       "    <tr>\n",
       "      <th>sorrow</th>\n",
       "      <td>0</td>\n",
       "      <td>0.000000</td>\n",
       "    </tr>\n",
       "    <tr>\n",
       "      <th>emo_score</th>\n",
       "      <td>0</td>\n",
       "      <td>0.000000</td>\n",
       "    </tr>\n",
       "    <tr>\n",
       "      <th>anger</th>\n",
       "      <td>0</td>\n",
       "      <td>0.000000</td>\n",
       "    </tr>\n",
       "    <tr>\n",
       "      <th>url</th>\n",
       "      <td>0</td>\n",
       "      <td>0.000000</td>\n",
       "    </tr>\n",
       "    <tr>\n",
       "      <th>sadness</th>\n",
       "      <td>0</td>\n",
       "      <td>0.000000</td>\n",
       "    </tr>\n",
       "    <tr>\n",
       "      <th>joy_normalized</th>\n",
       "      <td>0</td>\n",
       "      <td>0.000000</td>\n",
       "    </tr>\n",
       "    <tr>\n",
       "      <th>Week Position</th>\n",
       "      <td>0</td>\n",
       "      <td>0.000000</td>\n",
       "    </tr>\n",
       "    <tr>\n",
       "      <th>Song</th>\n",
       "      <td>0</td>\n",
       "      <td>0.000000</td>\n",
       "    </tr>\n",
       "    <tr>\n",
       "      <th>Performer</th>\n",
       "      <td>0</td>\n",
       "      <td>0.000000</td>\n",
       "    </tr>\n",
       "    <tr>\n",
       "      <th>SongID</th>\n",
       "      <td>0</td>\n",
       "      <td>0.000000</td>\n",
       "    </tr>\n",
       "    <tr>\n",
       "      <th>Instance</th>\n",
       "      <td>0</td>\n",
       "      <td>0.000000</td>\n",
       "    </tr>\n",
       "    <tr>\n",
       "      <th>Previous Week Position</th>\n",
       "      <td>0</td>\n",
       "      <td>0.000000</td>\n",
       "    </tr>\n",
       "    <tr>\n",
       "      <th>Peak Position</th>\n",
       "      <td>0</td>\n",
       "      <td>0.000000</td>\n",
       "    </tr>\n",
       "    <tr>\n",
       "      <th>Weeks on Chart</th>\n",
       "      <td>0</td>\n",
       "      <td>0.000000</td>\n",
       "    </tr>\n",
       "    <tr>\n",
       "      <th>wordCount</th>\n",
       "      <td>0</td>\n",
       "      <td>0.000000</td>\n",
       "    </tr>\n",
       "    <tr>\n",
       "      <th>allWordCount</th>\n",
       "      <td>0</td>\n",
       "      <td>0.000000</td>\n",
       "    </tr>\n",
       "    <tr>\n",
       "      <th>year</th>\n",
       "      <td>0</td>\n",
       "      <td>0.000000</td>\n",
       "    </tr>\n",
       "    <tr>\n",
       "      <th>MTLD</th>\n",
       "      <td>0</td>\n",
       "      <td>0.000000</td>\n",
       "    </tr>\n",
       "    <tr>\n",
       "      <th>TTR</th>\n",
       "      <td>0</td>\n",
       "      <td>0.000000</td>\n",
       "    </tr>\n",
       "    <tr>\n",
       "      <th>CTTR</th>\n",
       "      <td>0</td>\n",
       "      <td>0.000000</td>\n",
       "    </tr>\n",
       "    <tr>\n",
       "      <th>sentimentScore</th>\n",
       "      <td>0</td>\n",
       "      <td>0.000000</td>\n",
       "    </tr>\n",
       "    <tr>\n",
       "      <th>sentimentScore_pos</th>\n",
       "      <td>0</td>\n",
       "      <td>0.000000</td>\n",
       "    </tr>\n",
       "    <tr>\n",
       "      <th>sentimentScore_neg</th>\n",
       "      <td>0</td>\n",
       "      <td>0.000000</td>\n",
       "    </tr>\n",
       "    <tr>\n",
       "      <th>WeekID</th>\n",
       "      <td>0</td>\n",
       "      <td>0.000000</td>\n",
       "    </tr>\n",
       "    <tr>\n",
       "      <th>joy</th>\n",
       "      <td>0</td>\n",
       "      <td>0.000000</td>\n",
       "    </tr>\n",
       "    <tr>\n",
       "      <th>emoWordCount</th>\n",
       "      <td>0</td>\n",
       "      <td>0.000000</td>\n",
       "    </tr>\n",
       "  </tbody>\n",
       "</table>\n",
       "</div>"
      ],
      "text/plain": [
       "                         count          %\n",
       "languages                58540  17.853276\n",
       "Lyrics                   58540  17.853276\n",
       "emo_words                58540  17.853276\n",
       "all_words                58540  17.853276\n",
       "words                    58540  17.853276\n",
       "Artist                   58540  17.853276\n",
       "DecadeID                  5200   1.585874\n",
       "decade                     753   0.229647\n",
       "happy                        0   0.000000\n",
       "anger_normalized             0   0.000000\n",
       "disgust                      0   0.000000\n",
       "year_temp                    0   0.000000\n",
       "disgust_normalized           0   0.000000\n",
       "trust                        0   0.000000\n",
       "trust_normalized             0   0.000000\n",
       "anticipation                 0   0.000000\n",
       "anticipation_normalized      0   0.000000\n",
       "fear                         0   0.000000\n",
       "happy_normalized             0   0.000000\n",
       "fear_normalized              0   0.000000\n",
       "surprise                     0   0.000000\n",
       "YearID                       0   0.000000\n",
       "sadness_normalized           0   0.000000\n",
       "surprise_normalized          0   0.000000\n",
       "_merge                       0   0.000000\n",
       "sorrow_normalized            0   0.000000\n",
       "sorrow                       0   0.000000\n",
       "emo_score                    0   0.000000\n",
       "anger                        0   0.000000\n",
       "url                          0   0.000000\n",
       "sadness                      0   0.000000\n",
       "joy_normalized               0   0.000000\n",
       "Week Position                0   0.000000\n",
       "Song                         0   0.000000\n",
       "Performer                    0   0.000000\n",
       "SongID                       0   0.000000\n",
       "Instance                     0   0.000000\n",
       "Previous Week Position       0   0.000000\n",
       "Peak Position                0   0.000000\n",
       "Weeks on Chart               0   0.000000\n",
       "wordCount                    0   0.000000\n",
       "allWordCount                 0   0.000000\n",
       "year                         0   0.000000\n",
       "MTLD                         0   0.000000\n",
       "TTR                          0   0.000000\n",
       "CTTR                         0   0.000000\n",
       "sentimentScore               0   0.000000\n",
       "sentimentScore_pos           0   0.000000\n",
       "sentimentScore_neg           0   0.000000\n",
       "WeekID                       0   0.000000\n",
       "joy                          0   0.000000\n",
       "emoWordCount                 0   0.000000"
      ]
     },
     "execution_count": 30,
     "metadata": {},
     "output_type": "execute_result"
    }
   ],
   "source": [
    "missing = pd.concat([df_emo_full.isnull().sum(), 100 * df_emo_full.isnull().mean()], axis=1)\n",
    "missing.columns=[\"count\", \"%\"]\n",
    "missing.sort_values(by=\"count\", ascending = False)\n",
    "#Remove \";\" to see output"
   ]
  },
  {
   "cell_type": "markdown",
   "metadata": {},
   "source": [
    "Note, some of the categorical variables, such as lyrics, words, language, and artist cannot be imputed."
   ]
  },
  {
   "cell_type": "markdown",
   "metadata": {},
   "source": [
    "## 6. Create and Analyse Responce Variable"
   ]
  },
  {
   "cell_type": "markdown",
   "metadata": {},
   "source": [
    "Here we create a success indicator, songs that are in the top 10 recieve an indicator of 1, those that do not receive an indicator of 0. "
   ]
  },
  {
   "cell_type": "code",
   "execution_count": 31,
   "metadata": {},
   "outputs": [],
   "source": [
    "df_emo_full['SuccessInd'] = np.where(df_emo_full['Week Position'] <= 10, 1, 0)"
   ]
  },
  {
   "cell_type": "code",
   "execution_count": 32,
   "metadata": {},
   "outputs": [
    {
     "data": {
      "text/plain": [
       "0    295105\n",
       "1     32790\n",
       "Name: SuccessInd, dtype: int64"
      ]
     },
     "execution_count": 32,
     "metadata": {},
     "output_type": "execute_result"
    }
   ],
   "source": [
    "df_emo_full['SuccessInd'].value_counts()"
   ]
  },
  {
   "cell_type": "markdown",
   "metadata": {},
   "source": [
    "## 7. Export Data"
   ]
  },
  {
   "cell_type": "code",
   "execution_count": 33,
   "metadata": {},
   "outputs": [
    {
     "data": {
      "text/plain": [
       "(327895, 53)"
      ]
     },
     "execution_count": 33,
     "metadata": {},
     "output_type": "execute_result"
    }
   ],
   "source": [
    "df_emo_full.shape"
   ]
  },
  {
   "cell_type": "code",
   "execution_count": 34,
   "metadata": {},
   "outputs": [],
   "source": [
    "df_emo_full.to_csv('/Users/harrisonchaseweber/Desktop/Springboard/Billboard Top 10 Prediction/DataFiles/df_emo_full.csv')"
   ]
  },
  {
   "cell_type": "markdown",
   "metadata": {},
   "source": [
    "## 8. Summary"
   ]
  },
  {
   "cell_type": "markdown",
   "metadata": {},
   "source": [
    "In this notebook, we import data from two sources. One dataset includes all rankings (current and previous) of the top 100 songs for each week since 1957. The second dataset includes artist, lyrics, word-count, and emotional scores for each unique song. By merging these two datasets together we have a comprehensive dataset of all Billboard Top 100 songs with their associated lyric and emotional scores.\n",
    "\n",
    "We notice that all but 5 weeks have the full top 100 songs. The 5 weeks that are missing scores are located in 5 consecutive weeks in November/December of 1991. The missing scores are either 99, 98, 95, or 92. Since there are only \n",
    "5 missing records and all are in bottom scores, we leave the data as is. \n",
    "\n",
    "We notice that there are some songs with less than 5 lyrics, doing som spot checking we find that these numbers appear to be accurate. For example, Around the World by Daft Punk has a lyric count of 3. As this song repeats the lyrics \"Around the World\" continuously, the count appears accurate. \n",
    "\n",
    "When we merge the emotional scores data onto the full Billboard Top 100 data, we find that 18% of our records do not receive an emotional score in the merge. Looking at the distribution of years in this case, most of the missing values come from earlier years and more recent years with a spike in the 90s as well. Because the distribution of populated emotional scores is skewed, we supplement missing values with the median. (In the future we may use the median for each respective decade as there appears to be some differences in the median per decade.)\n",
    "\n",
    "The final step of our data wrangling, we create a variable that indicates success. In our study we are looking at songs that make it into the top 10 of the Billboard 100. A song with a \"Week Position\" of 10 or less is considered a success, all others are not. "
   ]
  },
  {
   "cell_type": "code",
   "execution_count": null,
   "metadata": {},
   "outputs": [],
   "source": []
  }
 ],
 "metadata": {
  "kernelspec": {
   "display_name": "Python 3",
   "language": "python",
   "name": "python3"
  },
  "language_info": {
   "codemirror_mode": {
    "name": "ipython",
    "version": 3
   },
   "file_extension": ".py",
   "mimetype": "text/x-python",
   "name": "python",
   "nbconvert_exporter": "python",
   "pygments_lexer": "ipython3",
   "version": "3.7.6"
  }
 },
 "nbformat": 4,
 "nbformat_minor": 4
}
